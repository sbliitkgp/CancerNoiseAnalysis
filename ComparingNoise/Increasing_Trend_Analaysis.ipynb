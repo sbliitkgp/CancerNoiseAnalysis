{
 "cells": [
  {
   "cell_type": "markdown",
   "id": "f101ce6b",
   "metadata": {},
   "source": [
    "# Loading Required Packages"
   ]
  },
  {
   "cell_type": "code",
   "execution_count": 2,
   "id": "7c01d7db",
   "metadata": {},
   "outputs": [],
   "source": [
    "import pandas as pd\n",
    "import numpy as np\n",
    "import seaborn as sns\n",
    "import matplotlib.pyplot as plt\n",
    "from scipy.stats import linregress"
   ]
  },
  {
   "cell_type": "markdown",
   "id": "900e00b5",
   "metadata": {},
   "source": [
    "# Loading Adjusted noise values for different samples"
   ]
  },
  {
   "cell_type": "code",
   "execution_count": 3,
   "id": "49df66c7",
   "metadata": {},
   "outputs": [],
   "source": [
    "re06= pd.read_csv('EBUS06/epi/sorted_noise_epi.csv', index_col=0)\n",
    "re28= pd.read_csv('EBUS28/epi/sorted_noise_epi.csv', index_col=0)\n",
    "rb58= pd.read_csv('BRONCHO_58/epi/sorted_noise_epi.csv', index_col=0)\n",
    "re49= pd.read_csv('EBUS49/epi/sorted_noise_epi.csv', index_col=0)\n",
    "rn01= pd.read_csv('LUNG_N01/epi/sorted_noise_epi.csv', index_col=0)\n",
    "rn06= pd.read_csv('LUNG_N06/epi/sorted_noise_epi.csv', index_col=0)\n",
    "rn08= pd.read_csv('LUNG_N08/epi/sorted_noise_epi.csv', index_col=0)\n",
    "rn09= pd.read_csv('LUNG_N09/epi/sorted_noise_epi.csv', index_col=0)\n",
    "rn18= pd.read_csv('LUNG_N18/epi/sorted_noise_epi.csv', index_col=0)\n",
    "rn19= pd.read_csv('LUNG_N19/epi/sorted_noise_epi.csv', index_col=0)\n",
    "rn20= pd.read_csv('LUNG_N20/epi/sorted_noise_epi.csv', index_col=0)\n",
    "rn28= pd.read_csv('LUNG_N28/epi/sorted_noise_epi.csv', index_col=0)\n",
    "rn30= pd.read_csv('LUNG_N30/epi/sorted_noise_epi.csv', index_col=0)\n",
    "rn34= pd.read_csv('LUNG_N34/epi/sorted_noise_epi.csv', index_col=0)\n",
    "rt25= pd.read_csv('LUNG_T25/epi/sorted_noise_epi.csv', index_col=0)\n",
    "rt06= pd.read_csv('LUNG_T06/epi/sorted_noise_epi.csv', index_col=0)\n",
    "rt08= pd.read_csv('LUNG_T08/epi/sorted_noise_epi.csv', index_col=0)\n",
    "rt18= pd.read_csv('LUNG_T18/epi/sorted_noise_epi.csv', index_col=0)\n",
    "rt09= pd.read_csv('LUNG_T09/epi/sorted_noise_epi.csv', index_col=0)\n",
    "rt31= pd.read_csv('LUNG_T31/epi/sorted_noise_epi.csv', index_col=0)\n",
    "rt20= pd.read_csv('LUNG_T20/epi/sorted_noise_epi.csv', index_col=0)\n",
    "rt28= pd.read_csv('LUNG_T28/epi/sorted_noise_epi.csv', index_col=0)\n",
    "rt30= pd.read_csv('LUNG_T30/epi/sorted_noise_epi.csv', index_col=0)\n",
    "rt34= pd.read_csv('LUNG_T34/epi/sorted_noise_epi.csv', index_col=0)"
   ]
  },
  {
   "cell_type": "markdown",
   "id": "01e39ae6",
   "metadata": {},
   "source": [
    "# Collecting all the gene names accross samples into a single list"
   ]
  },
  {
   "cell_type": "code",
   "execution_count": 5,
   "id": "ef14f726",
   "metadata": {},
   "outputs": [
    {
     "data": {
      "text/plain": [
       "9186"
      ]
     },
     "execution_count": 5,
     "metadata": {},
     "output_type": "execute_result"
    }
   ],
   "source": [
    "noise1= re06.index\n",
    "noise1.append(re28.index)\n",
    "noise1.append(rb58.index)\n",
    "noise1.append(re49.index)\n",
    "noise1.append(rn01.index)\n",
    "noise1.append(rn06.index)\n",
    "noise1.append(rn08.index)\n",
    "noise1.append(rn09.index)\n",
    "noise1.append(rn18.index)\n",
    "noise1.append(rn19.index)\n",
    "noise1.append(rn20.index)\n",
    "noise1.append(rn28.index)\n",
    "noise1.append(rn30.index)\n",
    "noise1.append(rn34.index)\n",
    "noise1.append(rt25.index)\n",
    "noise1.append(rt06.index)\n",
    "noise1.append(rt08.index)\n",
    "noise1.append(rt18.index)\n",
    "noise1.append(rt09.index)\n",
    "noise1.append(rt31.index)\n",
    "noise1.append(rt20.index)\n",
    "noise1.append(rt28.index)\n",
    "noise1.append(rt30.index)\n",
    "noise1.append(rt34.index)\n",
    "#Remove redundant genes\n",
    "noise = [*set(noise1)]\n",
    "#Print The total nuber of genes available\n",
    "len(noise)"
   ]
  },
  {
   "cell_type": "markdown",
   "id": "96ac4103",
   "metadata": {},
   "source": [
    "# Consolidating all the sample wise adjusted noise values into a single dataframe"
   ]
  },
  {
   "cell_type": "code",
   "execution_count": 6,
   "id": "ea40fd13",
   "metadata": {},
   "outputs": [],
   "source": [
    "nd = pd.DataFrame(columns=[\"LUNGN01\",\"LUNGN06\", \"LUNGN08\", \"LUNGN09\", \"LUNGN19\", \"LUNGN18\",\"LUNGN20\", \"LUNGN28\", \"LUNGN30\", \"LUNGN34\", \"LUNGT06\", \"LUNGT08\", \"LUNGT18\",\"LUNGT20\",\"LUNGT25\" ,\"LUNGT30\",\"LUNGT34\" ,\"LUNGT09\",\"LUNGT28\", \"LUNGT31\", \"EBUS06\",\"EBUS28\",\"EBUS49\", \"BRONCHO58\"],index= noise)\n",
    "nd.EBUS06= re06.x\n",
    "nd.EBUS28= re28.x\n",
    "nd.EBUS49= re49.x\n",
    "nd.BRONCHO58= rb58.x\n",
    "nd.LUNGN01= rn01.x\n",
    "nd.LUNGN06= rn06.x\n",
    "nd.LUNGN08= rn08.x\n",
    "nd.LUNGN09= rn09.x\n",
    "nd.LUNGN19= rn19.x\n",
    "nd.LUNGN18= rn18.x\n",
    "nd.LUNGN20= rn20.x\n",
    "nd.LUNGN28= rn28.x\n",
    "nd.LUNGN30= rn30.x\n",
    "nd.LUNGN34= rn34.x\n",
    "nd.LUNGT06= rt06.x\n",
    "nd.LUNGT08= rt08.x\n",
    "nd.LUNGT09= rt09.x\n",
    "nd.LUNGT18= rt18.x\n",
    "nd.LUNGT20= rt20.x\n",
    "nd.LUNGT25= rt25.x\n",
    "nd.LUNGT28= rt28.x\n",
    "nd.LUNGT30= rt30.x\n",
    "nd.LUNGT31= rt31.x\n",
    "nd.LUNGT34= rt34.x"
   ]
  },
  {
   "cell_type": "markdown",
   "id": "8875b5ac",
   "metadata": {},
   "source": [
    "# Sample Normalization"
   ]
  },
  {
   "cell_type": "code",
   "execution_count": 7,
   "id": "ea2974e8",
   "metadata": {},
   "outputs": [
    {
     "name": "stdout",
     "output_type": "stream",
     "text": [
      "LUNGN01     -0.753218\n",
      "LUNGN06     -1.246272\n",
      "LUNGN08     -0.942793\n",
      "LUNGN09     -1.133827\n",
      "LUNGN19     -1.368470\n",
      "LUNGN18     -1.080404\n",
      "LUNGN20     -1.120344\n",
      "LUNGN28     -1.157799\n",
      "LUNGN30     -1.103013\n",
      "LUNGN34     -0.545782\n",
      "LUNGT06     -1.216252\n",
      "LUNGT08     -1.660377\n",
      "LUNGT18     -0.758970\n",
      "LUNGT20     -0.590304\n",
      "LUNGT25     -1.128188\n",
      "LUNGT30     -0.523218\n",
      "LUNGT34     -0.476523\n",
      "LUNGT09     -1.046888\n",
      "LUNGT28     -0.434108\n",
      "LUNGT31     -0.891660\n",
      "EBUS06      -0.576623\n",
      "EBUS28       2.611946\n",
      "EBUS49      -1.085195\n",
      "BRONCHO58   -0.757277\n",
      "dtype: float64\n"
     ]
    },
    {
     "name": "stderr",
     "output_type": "stream",
     "text": [
      "c:\\Users\\deeya\\anaconda3\\lib\\site-packages\\pandas\\core\\arraylike.py:358: RuntimeWarning: invalid value encountered in log1p\n",
      "  result = getattr(ufunc, method)(*inputs, **kwargs)\n"
     ]
    }
   ],
   "source": [
    "#median noralisation\n",
    "median_values = nd.median()\n",
    "\n",
    "# Calculate the median absolute deviation (MAD) of each column\n",
    "mad_values = nd.mad()\n",
    "\n",
    "# Perform median normalization\n",
    "normalized_df = (nd - median_values) / mad_values\n",
    "\n",
    "#log transformation to remove rightskewness of the data\n",
    "skewness = normalized_df.skew()\n",
    "#Defining a function to perform log transformation  of a column\n",
    "def log_transformation(column):\n",
    "    log_column = np.log1p(column)\n",
    "    return log_column\n",
    "\n",
    "right_skewed_columns = skewness[skewness > 1].index  # Filter columns with skewness greater than 1\n",
    "normalized_df[right_skewed_columns] = normalized_df[right_skewed_columns].apply(log_transformation)\n",
    "skewness = normalized_df.skew()\n",
    "print(skewness)"
   ]
  },
  {
   "cell_type": "markdown",
   "id": "bced5a7c",
   "metadata": {},
   "source": [
    "# Filtering DataFrame"
   ]
  },
  {
   "cell_type": "code",
   "execution_count": 8,
   "id": "67bcd636",
   "metadata": {},
   "outputs": [],
   "source": [
    "#filtering dataframe by selecting genes with enough data points for stages\n",
    "mask1= normalized_df.iloc[:, :10].notna().sum(axis=1) >= 4\n",
    "mask2= normalized_df.iloc[:, 10:17].notna().sum(axis=1) >= 3\n",
    "mask3= normalized_df.iloc[:, 17:20].notna().sum(axis=1) >= 1\n",
    "mask4= normalized_df.iloc[:, 20:].notna().sum(axis=1) >= 2\n",
    "mask_combined = mask1&mask2&mask3&mask4\n",
    "df = normalized_df[mask_combined]"
   ]
  },
  {
   "cell_type": "markdown",
   "id": "b5fe542e",
   "metadata": {},
   "source": [
    "# Linear Regression to check increasing trend in noise"
   ]
  },
  {
   "cell_type": "code",
   "execution_count": 9,
   "id": "6579fb4b",
   "metadata": {},
   "outputs": [
    {
     "name": "stdout",
     "output_type": "stream",
     "text": [
      "37\n",
      "             slope\n",
      "MT-CO3    0.299766\n",
      "MT-CO1    0.257157\n",
      "SFTPB     0.216033\n",
      "NAA38     0.204916\n",
      "NDUFV2    0.197834\n",
      "COL27A1   0.184262\n",
      "RBM8A     0.179995\n",
      "ASAH1     0.171986\n",
      "CLEC2B    0.167243\n",
      "TGFBI     0.150409\n",
      "GPNMB     0.149362\n",
      "HSPA14    0.143924\n",
      "MRPL44    0.143256\n",
      "PRDX2     0.138544\n",
      "LSM2      0.136401\n",
      "ALDH2     0.136251\n",
      "SLC16A3   0.136247\n",
      "ARL6IP1   0.134419\n",
      "CD44      0.134020\n",
      "DTX2      0.133089\n",
      "PGK1      0.131990\n",
      "HIST1H4C  0.131425\n",
      "PEBP4     0.131279\n",
      "MT-ND1    0.130563\n",
      "NUPR1     0.129824\n",
      "FCGRT     0.129000\n",
      "TXN       0.127692\n",
      "PSMB6     0.123535\n",
      "BNIP3     0.122743\n",
      "SEC62     0.122178\n",
      "AIMP2     0.121870\n",
      "CCL3L3    0.119865\n",
      "H2AFZ     0.118536\n",
      "APOE      0.117273\n",
      "HMGA1     0.116124\n",
      "NUCKS1    0.115842\n",
      "ENO1      0.115065\n"
     ]
    }
   ],
   "source": [
    "#Setting font as Mirosoft Sans Serif\n",
    "plt.rcParams['font.sans-serif'] = 'Microsoft Sans Serif'\n",
    "\n",
    "\n",
    "#### Assign ordinal variables to samples according to their stage of cancer progression ####\n",
    "#### Adjacent non-cancerous:0 ; Tumor stage 1:1; Tumor stage 2: 2; Tumor stage 3:3; Metastasis: 4 ####\n",
    "\n",
    "\n",
    "pdf=df.T\n",
    "new_index = [0,0,0,0,0,0,0,0,0,0,1,1,1,1,1,1,1,2,3,3,4,4,4,4]\n",
    "pdf.reset_index(drop=True, inplace=True)\n",
    "pdf.index = new_index\n",
    "pdf=pdf.T\n",
    "\n",
    "#### Defining a function to perform linear regression with Y axis= Adjusted noise and X axis= Stages of cancer progression\n",
    "\n",
    "#### THis function returns set of genes with a positive slope value in the regression test:\n",
    "\n",
    "def calculate_slope(row):\n",
    "    x = np.arange(len(row))\n",
    "    non_na_values = row[~np.isnan(row)]\n",
    "    \n",
    "    if len(non_na_values) == 0:\n",
    "        return np.nan, np.nan\n",
    "\n",
    "    slope, _, _, _, _ = linregress(x[:len(non_na_values)], non_na_values)\n",
    "    return slope\n",
    "\n",
    "## Aplying the function to the dataframe and storing Rsquared values and slope values \n",
    "new_df=pd.DataFrame(columns=['slope'], index=pdf.index)\n",
    "new_df['slope'] = pdf.apply(calculate_slope, axis=1)\n",
    "increasing_noise = new_df[(new_df['slope'] > new_df['slope'].quantile(0.99))]\n",
    "\n",
    "print(len(increasing_noise))\n",
    "sorted_df= increasing_noise.sort_values('slope', ascending= False)\n",
    "print(sorted_df)"
   ]
  },
  {
   "cell_type": "markdown",
   "id": "24b7d7a7",
   "metadata": {},
   "source": [
    "# Heatmap representation"
   ]
  },
  {
   "cell_type": "code",
   "execution_count": 10,
   "id": "64f6a9ca",
   "metadata": {},
   "outputs": [
    {
     "data": {
      "image/png": "[encoded data removed]",
      "text/plain": [
       "<Figure size 720x1080 with 2 Axes>"
      ]
     },
     "metadata": {
      "needs_background": "light"
     },
     "output_type": "display_data"
    }
   ],
   "source": [
    "#producing the final dataframe\n",
    "fdf = df[df.index.isin(sorted_df.index)]\n",
    "fdf.to_csv(\"Genes_increasing_noise.csv\")\n",
    "fig, ax = plt.subplots(figsize=(10,15))\n",
    "ax = sns.heatmap(fdf,cmap= 'YlGnBu')\n",
    "# Get the color bar object\n",
    "cbar = ax.collections[0].colorbar\n",
    "ax.set_title(\"Increase in noise with cancer progression\", fontsize= 16)\n",
    "# Set the label for the color bar\n",
    "cbar.set_label('Noise value', fontsize=16)\n",
    "plt.savefig('Stagewise_increasing_noise.pdf')"
   ]
  },
  {
   "cell_type": "code",
   "execution_count": null,
   "id": "858929ab",
   "metadata": {},
   "outputs": [],
   "source": []
  }
 ],
 "metadata": {
  "kernelspec": {
   "display_name": "Python 3",
   "language": "python",
   "name": "python3"
  },
  "language_info": {
   "codemirror_mode": {
    "name": "ipython",
    "version": 3
   },
   "file_extension": ".py",
   "mimetype": "text/x-python",
   "name": "python",
   "nbconvert_exporter": "python",
   "pygments_lexer": "ipython3",
   "version": "3.8.8"
  }
 },
 "nbformat": 4,
 "nbformat_minor": 5
}
